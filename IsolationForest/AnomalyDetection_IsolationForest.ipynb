{
  "nbformat": 4,
  "nbformat_minor": 0,
  "metadata": {
    "colab": {
      "name": "AnomalyDetection_IsolationForest.ipynb",
      "provenance": []
    },
    "kernelspec": {
      "name": "python3",
      "display_name": "Python 3"
    }
  },
  "cells": [
    {
      "cell_type": "code",
      "metadata": {
        "id": "iBw7JqMVfWWq",
        "colab_type": "code",
        "outputId": "9272fcea-ee6a-44c9-9fb0-f6ba8eebf4bb",
        "colab": {
          "base_uri": "https://localhost:8080/",
          "height": 119
        }
      },
      "source": [
        "! git clone https://github.com/cggcaio/Anomaly-Detection-for-Driver-Identification.git"
      ],
      "execution_count": 1,
      "outputs": [
        {
          "output_type": "stream",
          "text": [
            "Cloning into 'Anomaly-Detection-for-Driver-Identification'...\n",
            "remote: Enumerating objects: 27, done.\u001b[K\n",
            "remote: Counting objects: 100% (27/27), done.\u001b[K\n",
            "remote: Compressing objects: 100% (20/20), done.\u001b[K\n",
            "remote: Total 27 (delta 3), reused 23 (delta 2), pack-reused 0\u001b[K\n",
            "Unpacking objects: 100% (27/27), done.\n"
          ],
          "name": "stdout"
        }
      ]
    },
    {
      "cell_type": "code",
      "metadata": {
        "id": "AOtXC0fnvuYb",
        "colab_type": "code",
        "colab": {}
      },
      "source": [
        "import numpy as np\n",
        "import matplotlib.pyplot as plt\n",
        "from sklearn.ensemble import IsolationForest\n",
        "from sklearn.model_selection import train_test_split\n",
        "from sklearn.preprocessing import LabelEncoder\n",
        "import gzip\n",
        "import pandas as pd"
      ],
      "execution_count": 0,
      "outputs": []
    },
    {
      "cell_type": "code",
      "metadata": {
        "id": "GVi3rybhf2ZA",
        "colab_type": "code",
        "colab": {
          "base_uri": "https://localhost:8080/",
          "height": 187
        },
        "outputId": "4afeab5c-7fce-478d-f0a0-522e068cdeab"
      },
      "source": [
        "  columns = [\"duration\", \"protocol_type\", \"service\", \"flag\", \"src_bytes\",\n",
        "\"dst_bytes\", \"land\", \"wrong_fragment\", \"urgent\",\n",
        "    \"hot\", \"num_failed_logins\", \"logged_in\", \"num_compromised\",\n",
        "\"root_shell\", \"su_attempted\", \"num_root\",\n",
        "    \"num_file_creations\", \"num_shells\", \"num_access_files\",\n",
        "\"num_outbound_cmds\", \"is_host_login\",\n",
        "    \"is_guest_login\", \"count\", \"srv_count\", \"serror_rate\",\n",
        "\"srv_serror_rate\", \"rerror_rate\", \"srv_rerror_rate\",\n",
        "    \"same_srv_rate\", \"diff_srv_rate\", \"srv_diff_host_rate\",\n",
        "\"dst_host_count\", \"dst_host_srv_count\",\n",
        "    \"dst_host_same_srv_rate\", \"dst_host_diff_srv_rate\",\n",
        "\"dst_host_same_src_port_rate\", \"dst_host_srv_diff_host_rate\",\n",
        "    \"dst_host_serror_rate\", \"dst_host_srv_serror_rate\",\n",
        "\"dst_host_rerror_rate\", \"dst_host_srv_rerror_rate\", \"label\"]\n",
        "\n",
        "with gzip.open('/content/Anomaly-Detection-for-Driver-Identification/IsolationForest/kddcup.data.gz', 'rb') as f:\n",
        "    df = pd.read_csv(f, sep=\",\", names=columns, index_col=None)\n",
        "    df = df[df[\"service\"] == \"http\"]\n",
        "    df = df.drop(\"service\", axis=1)\n",
        "    columns.remove(\"service\")\n",
        "    print(df.shape)\n",
        "    print(df[\"label\"].value_counts())\n",
        "    \n"
      ],
      "execution_count": 11,
      "outputs": [
        {
          "output_type": "stream",
          "text": [
            "(623091, 41)\n",
            "normal.       619046\n",
            "back.           2203\n",
            "neptune.        1801\n",
            "portsweep.        16\n",
            "ipsweep.          13\n",
            "satan.             7\n",
            "phf.               4\n",
            "nmap.              1\n",
            "Name: label, dtype: int64\n"
          ],
          "name": "stdout"
        }
      ]
    },
    {
      "cell_type": "code",
      "metadata": {
        "id": "nPl9adhkA50l",
        "colab_type": "code",
        "colab": {
          "base_uri": "https://localhost:8080/",
          "height": 255
        },
        "outputId": "4f5333f3-a53c-439c-b8cc-f7019a7cc454"
      },
      "source": [
        "print(df.head(100))"
      ],
      "execution_count": 15,
      "outputs": [
        {
          "output_type": "stream",
          "text": [
            "    duration protocol_type  ... dst_host_srv_rerror_rate    label\n",
            "0          0           tcp  ...                      0.0  normal.\n",
            "1          0           tcp  ...                      0.0  normal.\n",
            "2          0           tcp  ...                      0.0  normal.\n",
            "3          0           tcp  ...                      0.0  normal.\n",
            "4          0           tcp  ...                      0.0  normal.\n",
            "..       ...           ...  ...                      ...      ...\n",
            "95         0           tcp  ...                      0.0  normal.\n",
            "96         0           tcp  ...                      0.0  normal.\n",
            "97         0           tcp  ...                      0.0  normal.\n",
            "98         0           tcp  ...                      0.0  normal.\n",
            "99         0           tcp  ...                      0.0  normal.\n",
            "\n",
            "[100 rows x 41 columns]\n"
          ],
          "name": "stdout"
        }
      ]
    }
  ]
}