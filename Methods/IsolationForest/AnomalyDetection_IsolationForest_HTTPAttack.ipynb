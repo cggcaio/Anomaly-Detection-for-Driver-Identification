{
  "nbformat": 4,
  "nbformat_minor": 0,
  "metadata": {
    "colab": {
      "name": "AnomalyDetection_IsolationForest_HTTPAttack.ipynb",
      "provenance": [],
      "collapsed_sections": []
    },
    "kernelspec": {
      "name": "python3",
      "display_name": "Python 3"
    }
  },
  "cells": [
    {
      "cell_type": "code",
      "metadata": {
        "id": "iBw7JqMVfWWq",
        "colab_type": "code",
        "outputId": "c251991f-4e0e-4963-cf0b-21dca8aa4a14",
        "colab": {
          "base_uri": "https://localhost:8080/",
          "height": 119
        }
      },
      "source": [
        "! git clone https://github.com/cggcaio/Anomaly-Detection-for-Driver-Identification.git"
      ],
      "execution_count": 0,
      "outputs": [
        {
          "output_type": "stream",
          "text": [
            "Cloning into 'Anomaly-Detection-for-Driver-Identification'...\n",
            "remote: Enumerating objects: 31, done.\u001b[K\n",
            "remote: Counting objects: 100% (31/31), done.\u001b[K\n",
            "remote: Compressing objects: 100% (24/24), done.\u001b[K\n",
            "remote: Total 31 (delta 4), reused 26 (delta 2), pack-reused 0\u001b[K\n",
            "Unpacking objects: 100% (31/31), done.\n"
          ],
          "name": "stdout"
        }
      ]
    },
    {
      "cell_type": "code",
      "metadata": {
        "id": "AOtXC0fnvuYb",
        "colab_type": "code",
        "colab": {}
      },
      "source": [
        "import numpy as np\n",
        "import matplotlib.pyplot as plt\n",
        "from sklearn.ensemble import IsolationForest\n",
        "from sklearn.model_selection import train_test_split\n",
        "from sklearn.preprocessing import LabelEncoder\n",
        "import gzip\n",
        "import pandas as pd"
      ],
      "execution_count": 0,
      "outputs": []
    },
    {
      "cell_type": "code",
      "metadata": {
        "id": "GVi3rybhf2ZA",
        "colab_type": "code",
        "outputId": "e1f3f974-53d1-4fc9-e46c-ec70e5e3253c",
        "colab": {
          "base_uri": "https://localhost:8080/",
          "height": 204
        }
      },
      "source": [
        "  columns = [\"duration\", \"protocol_type\", \"service\", \"flag\", \"src_bytes\",\n",
        "\"dst_bytes\", \"land\", \"wrong_fragment\", \"urgent\",\n",
        "    \"hot\", \"num_failed_logins\", \"logged_in\", \"num_compromised\", \n",
        "\"root_shell\", \"su_attempted\", \"num_root\",\n",
        "    \"num_file_creations\", \"num_shells\", \"num_access_files\",\n",
        "\"num_outbound_cmds\", \"is_host_login\",\n",
        "    \"is_guest_login\", \"count\", \"srv_count\", \"serror_rate\",\n",
        "\"srv_serror_rate\", \"rerror_rate\", \"srv_rerror_rate\",\n",
        "    \"same_srv_rate\", \"diff_srv_rate\", \"srv_diff_host_rate\",\n",
        "\"dst_host_count\", \"dst_host_srv_count\",\n",
        "    \"dst_host_same_srv_rate\", \"dst_host_diff_srv_rate\",\n",
        "\"dst_host_same_src_port_rate\", \"dst_host_srv_diff_host_rate\",\n",
        "    \"dst_host_serror_rate\", \"dst_host_srv_serror_rate\",\n",
        "\"dst_host_rerror_rate\", \"dst_host_srv_rerror_rate\", \"label\"]\n",
        "\n",
        "with gzip.open('/content/Anomaly-Detection-for-Driver-Identification/IsolationForest/kddcup.data.gz', 'rb') as f:\n",
        "    df = pd.read_csv(f, sep=\",\", names=columns, index_col=None)\n",
        "    print(df.shape)\n",
        "    df = df[df[\"service\"] == \"http\"]\n",
        "    df = df.drop(\"service\", axis=1)\n",
        "    columns.remove(\"service\")\n",
        "    print(df.shape)\n",
        "    print(df[\"label\"].value_counts())\n",
        "    \n"
      ],
      "execution_count": 0,
      "outputs": [
        {
          "output_type": "stream",
          "text": [
            "(4898431, 42)\n",
            "(623091, 41)\n",
            "normal.       619046\n",
            "back.           2203\n",
            "neptune.        1801\n",
            "portsweep.        16\n",
            "ipsweep.          13\n",
            "satan.             7\n",
            "phf.               4\n",
            "nmap.              1\n",
            "Name: label, dtype: int64\n"
          ],
          "name": "stdout"
        }
      ]
    },
    {
      "cell_type": "code",
      "metadata": {
        "id": "nPl9adhkA50l",
        "colab_type": "code",
        "outputId": "0905f6a5-10d7-44df-a2bf-73c39cfe6745",
        "colab": {
          "base_uri": "https://localhost:8080/",
          "height": 153
        }
      },
      "source": [
        "for col in df.columns:                         # Transform string data in number, example [ \"John\", \"Bob\", \"Robert\"], when \"John\" -> 1, \"Bob\" ->2 ...\n",
        "  if df[col].dtype ==\"object\":\n",
        "      encoded = LabelEncoder()\n",
        "      encoded.fit(df[col])                     # Gives the label encoder all of the data in the column from which it extracts the unique categorical values from\n",
        "      df[col] = encoded.transform(df[col])\n",
        "\n",
        "print(df.head(5)) \n",
        "\n",
        "for f in range(0, 3):\n",
        "  df = df.iloc[np.random.permutation(len(df))] # Randomly shuffle all entries to avoid anomalous data blocks.\n",
        "\n",
        "df2 = df[:500000]                              # Assigning the first 500,000 entries of df to a variable df2.\n",
        "labels = df2[\"label\"]\n",
        "df_validate = df[500000:]\n",
        "x_train, x_test, y_train, y_test = train_test_split(df2, labels, test_size = 0.2, random_state = 42) # Scikit-learn function called train_test_split that divide the data between train and test.\n",
        "\n",
        "x_val, y_val = df_validate, df_validate[\"label\"]"
      ],
      "execution_count": 0,
      "outputs": [
        {
          "output_type": "stream",
          "text": [
            "   duration  protocol_type  ...  dst_host_srv_rerror_rate  label\n",
            "0         0              0  ...                       0.0      4\n",
            "1         0              0  ...                       0.0      4\n",
            "2         0              0  ...                       0.0      4\n",
            "3         0              0  ...                       0.0      4\n",
            "4         0              0  ...                       0.0      4\n",
            "\n",
            "[5 rows x 41 columns]\n"
          ],
          "name": "stdout"
        }
      ]
    },
    {
      "cell_type": "code",
      "metadata": {
        "id": "jP5iftu81qKo",
        "colab_type": "code",
        "colab": {}
      },
      "source": [
        "isolation_forest = IsolationForest(n_estimators=100, max_samples=256, contamination=0.1, random_state=42)\n",
        "# n_estimators is the number of trees to use in forest. Default is 100.\n",
        "# max_samples is the maximum number of data points that the tree should build on. Default is 256 or smaller\n",
        "# contamination is an estimate of the percentage of the entire data set that should be considered an anomaly. Default is 0.1\n",
        "# random_state is the number it will initialize the random number generator with to use during the training process.\n"
      ],
      "execution_count": 0,
      "outputs": []
    },
    {
      "cell_type": "code",
      "metadata": {
        "id": "otDNIiqD5ZJ0",
        "colab_type": "code",
        "outputId": "797e4fca-c23e-4997-844c-1831be9cfe27",
        "colab": {
          "base_uri": "https://localhost:8080/",
          "height": 68
        }
      },
      "source": [
        "isolation_forest.fit(x_train) # train isolation forest"
      ],
      "execution_count": 0,
      "outputs": [
        {
          "output_type": "execute_result",
          "data": {
            "text/plain": [
              "IsolationForest(behaviour='deprecated', bootstrap=False, contamination=0.1,\n",
              "                max_features=1.0, max_samples=256, n_estimators=100,\n",
              "                n_jobs=None, random_state=42, verbose=0, warm_start=False)"
            ]
          },
          "metadata": {
            "tags": []
          },
          "execution_count": 6
        }
      ]
    },
    {
      "cell_type": "code",
      "metadata": {
        "id": "_g_hytnUHZXg",
        "colab_type": "code",
        "outputId": "e79210a1-cc87-4fdf-a42a-d3935d545914",
        "colab": {
          "base_uri": "https://localhost:8080/",
          "height": 563
        }
      },
      "source": [
        "# Hisogram of the anomaly scores tested on the validation set\n",
        "anomaly_scores = isolation_forest.decision_function(x_val)\n",
        "plt.figure(figsize=(15, 10))\n",
        "plt.hist(anomaly_scores, bins = 100)\n",
        "plt.xlabel('Average Path Lenghts', fontsize=14)\n",
        "plt.ylabel('Number of Data Points', fontsize=14)\n",
        "plt.show()"
      ],
      "execution_count": 0,
      "outputs": [
        {
          "output_type": "display_data",
          "data": {
            "image/png": "[encoded data removed]",
            "text/plain": [
              "<Figure size 1080x720 with 1 Axes>"
            ]
          },
          "metadata": {
            "tags": [],
            "needs_background": "light"
          }
        }
      ]
    },
    {
      "cell_type": "code",
      "metadata": {
        "id": "g_DhR6Dwlstd",
        "colab_type": "code",
        "outputId": "e5ec2d55-f7a7-4dfe-ed0e-51d45e13e33e",
        "colab": {
          "base_uri": "https://localhost:8080/",
          "height": 34
        }
      },
      "source": [
        "from sklearn.metrics import roc_auc_score\n",
        "\n",
        "anomalies = anomaly_scores > -0.19\n",
        "matches = y_val == list(encoded.classes_).index(\"normal.\")\n",
        "auc = roc_auc_score(anomalies, matches)\n",
        "print(\"AUC: {:.2%}\".format (auc))\n"
      ],
      "execution_count": 0,
      "outputs": [
        {
          "output_type": "stream",
          "text": [
            "AUC: 93.79%\n"
          ],
          "name": "stdout"
        }
      ]
    },
    {
      "cell_type": "code",
      "metadata": {
        "id": "iSXeUHTk2Y4-",
        "colab_type": "code",
        "outputId": "bf89e7c9-efd7-469b-d929-5d653efbb889",
        "colab": {
          "base_uri": "https://localhost:8080/",
          "height": 575
        }
      },
      "source": [
        "# Hisogram of the anomaly scores tested on the test\n",
        "anomaly_scores_test = isolation_forest.decision_function(x_test)\n",
        "plt.figure(figsize=(15,10))\n",
        "plt.hist(anomaly_scores_test, bins=100)\n",
        "plt.xlabel(\"Average Path Lengths\", fontsize=14)\n",
        "plt.xlabel(\"Number of Data Points\", fontsize=14)\n",
        "plt.show()"
      ],
      "execution_count": 0,
      "outputs": [
        {
          "output_type": "display_data",
          "data": {
            "image/png": "[encoded data removed]",
            "text/plain": [
              "<Figure size 1080x720 with 1 Axes>"
            ]
          },
          "metadata": {
            "tags": [],
            "needs_background": "light"
          }
        }
      ]
    },
    {
      "cell_type": "code",
      "metadata": {
        "id": "TI7FTVUz8Acb",
        "colab_type": "code",
        "outputId": "a0a4ca9a-135e-48ed-969a-aa29973de077",
        "colab": {
          "base_uri": "https://localhost:8080/",
          "height": 34
        }
      },
      "source": [
        "anomalies_test = anomaly_scores_test > -0.19\n",
        "matches = y_test == list(encoded.classes_).index(\"normal.\")\n",
        "auc = roc_auc_score(anomalies_test, matches)\n",
        "print(\"AUC: {:.2%}\".format(auc))"
      ],
      "execution_count": 0,
      "outputs": [
        {
          "output_type": "stream",
          "text": [
            "AUC: 94.40%\n"
          ],
          "name": "stdout"
        }
      ]
    }
  ]
}