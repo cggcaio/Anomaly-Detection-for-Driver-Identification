{
  "nbformat": 4,
  "nbformat_minor": 0,
  "metadata": {
    "colab": {
      "name": "AnomalyDetection_OC-SVM_HTTPAttack.ipynb",
      "provenance": [],
      "collapsed_sections": []
    },
    "kernelspec": {
      "name": "python3",
      "display_name": "Python 3"
    }
  },
  "cells": [
    {
      "cell_type": "code",
      "metadata": {
        "id": "6ch7WALZ53wl",
        "colab_type": "code",
        "outputId": "4ece7ade-cafe-4ae2-c850-6293814d354e",
        "colab": {
          "base_uri": "https://localhost:8080/",
          "height": 153
        }
      },
      "source": [
        "! git clone https://github.com/cggcaio/Anomaly-Detection-for-Driver-Identification.git"
      ],
      "execution_count": 0,
      "outputs": [
        {
          "output_type": "stream",
          "text": [
            "Cloning into 'Anomaly-Detection-for-Driver-Identification'...\n",
            "remote: Enumerating objects: 181, done.\u001b[K\n",
            "remote: Counting objects: 100% (181/181), done.\u001b[K\n",
            "remote: Compressing objects: 100% (100/100), done.\u001b[K\n",
            "remote: Total 181 (delta 71), reused 169 (delta 62), pack-reused 0\u001b[K\n",
            "Receiving objects: 100% (181/181), 51.26 MiB | 8.04 MiB/s, done.\n",
            "Resolving deltas: 100% (71/71), done.\n",
            "Checking out files: 100% (29/29), done.\n"
          ],
          "name": "stdout"
        }
      ]
    },
    {
      "cell_type": "code",
      "metadata": {
        "id": "7gJizq736D7U",
        "colab_type": "code",
        "colab": {}
      },
      "source": [
        "import numpy as np\n",
        "import matplotlib.pyplot as plt\n",
        "from sklearn.svm import OneClassSVM\n",
        "from sklearn.model_selection import train_test_split\n",
        "from sklearn.preprocessing import LabelEncoder\n",
        "import gzip\n",
        "import pandas as pd"
      ],
      "execution_count": 0,
      "outputs": []
    },
    {
      "cell_type": "markdown",
      "metadata": {
        "id": "2h_bNmxaoQk0",
        "colab_type": "text"
      },
      "source": [
        "Filtering out the anomalies and the normal data points to construct a new data set that is a mixture of the two"
      ]
    },
    {
      "cell_type": "code",
      "metadata": {
        "id": "iUFbw-wN6GWE",
        "colab_type": "code",
        "outputId": "9007375e-fc40-44c1-c536-d0a48f70f5f5",
        "colab": {
          "base_uri": "https://localhost:8080/",
          "height": 51
        }
      },
      "source": [
        "  columns = [\"duration\", \"protocol_type\", \"service\", \"flag\", \"src_bytes\",\n",
        "\"dst_bytes\", \"land\", \"wrong_fragment\", \"urgent\",\n",
        "    \"hot\", \"num_failed_logins\", \"logged_in\", \"num_compromised\",\n",
        "\"root_shell\", \"su_attempted\", \"num_root\",\n",
        "    \"num_file_creations\", \"num_shells\", \"num_access_files\",\n",
        "\"num_outbound_cmds\", \"is_host_login\",\n",
        "    \"is_guest_login\", \"count\", \"srv_count\", \"serror_rate\",\n",
        "\"srv_serror_rate\", \"rerror_rate\", \"srv_rerror_rate\",\n",
        "    \"same_srv_rate\", \"diff_srv_rate\", \"srv_diff_host_rate\",\n",
        "\"dst_host_count\", \"dst_host_srv_count\",\n",
        "    \"dst_host_same_srv_rate\", \"dst_host_diff_srv_rate\",\n",
        "\"dst_host_same_src_port_rate\", \"dst_host_srv_diff_host_rate\",\n",
        "    \"dst_host_serror_rate\", \"dst_host_srv_serror_rate\",\n",
        "\"dst_host_rerror_rate\", \"dst_host_srv_rerror_rate\", \"label\"]\n",
        "\n",
        "with gzip.open('/content/Anomaly-Detection-for-Driver-Identification/Methods/kddcup.data.gz', 'rb') as f:\n",
        "    df = pd.read_csv(f, sep=\",\", names=columns, index_col=None)\n",
        "    \n",
        "    \n",
        "    df = df[df[\"service\"] == \"http\"]\n",
        "    df = df.drop(\"service\", axis=1)\n",
        "    columns.remove(\"service\")\n",
        "\n",
        "    novelties = df[df[\"label\"] != \"normal.\"]\n",
        "    novelties_normal = df[150000:154045]\n",
        "\n",
        "    novelties = pd.concat([novelties, novelties_normal])\n",
        "    normal = df[df[\"label\"] == \"normal.\"]\n",
        "\n",
        "    print(novelties.shape)\n",
        "    print(normal.shape)\n",
        "   "
      ],
      "execution_count": 0,
      "outputs": [
        {
          "output_type": "stream",
          "text": [
            "(8090, 41)\n",
            "(619046, 41)\n"
          ],
          "name": "stdout"
        }
      ]
    },
    {
      "cell_type": "markdown",
      "metadata": {
        "id": "s6mw2ZXSoA7Q",
        "colab_type": "text"
      },
      "source": [
        "Encoding all the categorical values in the data frames"
      ]
    },
    {
      "cell_type": "code",
      "metadata": {
        "id": "oMRnSsr6_atT",
        "colab_type": "code",
        "colab": {}
      },
      "source": [
        "for col in normal.columns:  \n",
        "  if normal[col].dtype == \"object\":\n",
        "    encoded = LabelEncoder()\n",
        "    encoded.fit(normal[col])\n",
        "    normal[col] = encoded.transform(normal[col])\n",
        "\n",
        "for col in novelties.columns:\n",
        "  if novelties[col].dtype == \"object\":\n",
        "    encoded2 = LabelEncoder()\n",
        "    encoded2.fit(novelties[col])\n",
        "    novelties[col] = encoded2.transform(novelties[col]) \n",
        "  "
      ],
      "execution_count": 0,
      "outputs": []
    },
    {
      "cell_type": "markdown",
      "metadata": {
        "id": "G0OwISQEnXgk",
        "colab_type": "text"
      },
      "source": [
        "Set up training, testing and validation sets"
      ]
    },
    {
      "cell_type": "code",
      "metadata": {
        "id": "zxJk047NBeI9",
        "colab_type": "code",
        "colab": {}
      },
      "source": [
        "for f in range(0,10):\n",
        "  normal = normal.iloc[np.random.permutation(len(normal))]\n",
        "\n",
        "\n",
        "df2 = pd.concat([normal[:100000], normal[200000:250000]])\n",
        "df_validate = normal[100000:150000]\n",
        "x_train, x_test=train_test_split(df2, test_size = 0.2, random_state = 42)\n",
        "x_val = df_validate"
      ],
      "execution_count": 0,
      "outputs": []
    },
    {
      "cell_type": "code",
      "metadata": {
        "id": "Tizwnq3gnXFt",
        "colab_type": "code",
        "outputId": "6c85bee5-a3cf-4a81-e902-7062addce37a",
        "colab": {
          "base_uri": "https://localhost:8080/",
          "height": 119
        }
      },
      "source": [
        "print(\"x_train:{}\\n\" .format(x_train.shape))\n",
        "print(\"x_test:{}\\n\" .format(x_test.shape))\n",
        "print(\"x_validation:{}\\n\" .format(x_val.shape))"
      ],
      "execution_count": 0,
      "outputs": [
        {
          "output_type": "stream",
          "text": [
            "x_train:(120000, 41)\n",
            "\n",
            "x_test:(30000, 41)\n",
            "\n",
            "x_validation:(50000, 41)\n",
            "\n"
          ],
          "name": "stdout"
        }
      ]
    },
    {
      "cell_type": "markdown",
      "metadata": {
        "id": "8RUGcsqMGnHg",
        "colab_type": "text"
      },
      "source": [
        "Declaring and initializing the model"
      ]
    },
    {
      "cell_type": "code",
      "metadata": {
        "id": "nL4GfJX1r_H5",
        "colab_type": "code",
        "colab": {}
      },
      "source": [
        "ocsvm = OneClassSVM(kernel='rbf', gamma=0.00005 , nu=0.1)\n",
        "\n",
        "# kernel (default rbf = radial basis function)\n",
        "# gamma tells the model how much you want to consider points further from the hyperplane. Since it is pretty small, this means you want to emphasize the points farther away. \n",
        "# nu tells the model approximately how many data points you expect the model to misclassify."
      ],
      "execution_count": 0,
      "outputs": []
    },
    {
      "cell_type": "markdown",
      "metadata": {
        "id": "PH7FpEypHJ6R",
        "colab_type": "text"
      },
      "source": [
        "Training the model on the training data"
      ]
    },
    {
      "cell_type": "code",
      "metadata": {
        "id": "vsW27wPtGcgh",
        "colab_type": "code",
        "outputId": "fde8d703-d360-4b60-bb7c-c4a86b8d0210",
        "colab": {
          "base_uri": "https://localhost:8080/",
          "height": 51
        }
      },
      "source": [
        "ocsvm.fit(x_train)"
      ],
      "execution_count": 0,
      "outputs": [
        {
          "output_type": "execute_result",
          "data": {
            "text/plain": [
              "OneClassSVM(cache_size=200, coef0=0.0, degree=3, gamma=5e-05, kernel='rbf',\n",
              "            max_iter=-1, nu=0.1, shrinking=True, tol=0.001, verbose=False)"
            ]
          },
          "metadata": {
            "tags": []
          },
          "execution_count": 10
        }
      ]
    },
    {
      "cell_type": "markdown",
      "metadata": {
        "id": "UOhuo474Oj44",
        "colab_type": "text"
      },
      "source": [
        "Making predictions and generating the accuracy score"
      ]
    },
    {
      "cell_type": "code",
      "metadata": {
        "id": "ZCtVUUf6LETH",
        "colab_type": "code",
        "outputId": "5ea5fcf0-5a52-4d3f-ff73-d9fe5d528971",
        "colab": {
          "base_uri": "https://localhost:8080/",
          "height": 34
        }
      },
      "source": [
        "preds = ocsvm.predict(x_test)\n",
        "score = 0\n",
        "for f in range(0, x_test.shape[0]):\n",
        "  if(preds[f] == 1):\n",
        "    score = score+1\n",
        "\n",
        "accuracy = score / x_test.shape[0]\n",
        "print(\"Accuracy: {:.2%}\".format(accuracy))"
      ],
      "execution_count": 0,
      "outputs": [
        {
          "output_type": "stream",
          "text": [
            "Accuracy: 89.75%\n"
          ],
          "name": "stdout"
        }
      ]
    },
    {
      "cell_type": "markdown",
      "metadata": {
        "id": "AoZAJqmASzps",
        "colab_type": "text"
      },
      "source": [
        "Generating the accuracy score for the validation set"
      ]
    },
    {
      "cell_type": "code",
      "metadata": {
        "id": "eA299qgDQ3pO",
        "colab_type": "code",
        "outputId": "4a7c934c-2796-4ef6-9a99-ab818ee82fc8",
        "colab": {
          "base_uri": "https://localhost:8080/",
          "height": 34
        }
      },
      "source": [
        "preds = ocsvm.predict(x_val)\n",
        "score = 0\n",
        "for f in range(0, x_val.shape[0]):\n",
        "  if(preds[f] == 1):\n",
        "    score = score+1\n",
        "\n",
        "accuracy = score / x_val.shape[0]\n",
        "print(\"Accuracy: {:.2%}\".format(accuracy))"
      ],
      "execution_count": 0,
      "outputs": [
        {
          "output_type": "stream",
          "text": [
            "Accuracy: 89.74%\n"
          ],
          "name": "stdout"
        }
      ]
    },
    {
      "cell_type": "markdown",
      "metadata": {
        "id": "cMndgNeXVdxt",
        "colab_type": "text"
      },
      "source": [
        "Generating the AUC score"
      ]
    },
    {
      "cell_type": "code",
      "metadata": {
        "id": "q7rkDd4tS6n_",
        "colab_type": "code",
        "outputId": "b4fd9420-b909-4c36-cc0e-03633f5f9e27",
        "colab": {
          "base_uri": "https://localhost:8080/",
          "height": 34
        }
      },
      "source": [
        "from sklearn.metrics import roc_auc_score\n",
        "\n",
        "preds = ocsvm.predict(novelties)\n",
        "matches = novelties[\"label\"] == 4\n",
        "\n",
        "auc = roc_auc_score(preds, matches)\n",
        "print(\"AUC: {:.2%}\".format (auc))"
      ],
      "execution_count": 0,
      "outputs": [
        {
          "output_type": "stream",
          "text": [
            "AUC: 95.99%\n"
          ],
          "name": "stdout"
        }
      ]
    },
    {
      "cell_type": "markdown",
      "metadata": {
        "id": "WeBmQ-aSWOUN",
        "colab_type": "text"
      },
      "source": [
        "Code to display a graph that shows the distributions for the predictions"
      ]
    },
    {
      "cell_type": "code",
      "metadata": {
        "id": "ABJcxuJ2VmXb",
        "colab_type": "code",
        "colab": {
          "base_uri": "https://localhost:8080/",
          "height": 320
        },
        "outputId": "dc3a70a9-90a6-4933-a25c-ae97cbae3153"
      },
      "source": [
        "plt.figure(figsize=(10,5))\n",
        "plt.hist(preds, bins=[-1.5, -0.5] + [0.5, 1.5], align='mid')\n",
        "plt.xticks([-1, 1])\n",
        "plt.show()\n"
      ],
      "execution_count": 17,
      "outputs": [
        {
          "output_type": "display_data",
          "data": {
            "image/png": "[encoded data removed]",
            "text/plain": [
              "<Figure size 720x360 with 1 Axes>"
            ]
          },
          "metadata": {
            "tags": [],
            "needs_background": "light"
          }
        }
      ]
    }
  ]
}